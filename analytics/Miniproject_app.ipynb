{
 "cells": [
  {
   "cell_type": "code",
   "execution_count": 27,
   "metadata": {},
   "outputs": [],
   "source": [
    "import pickle\n",
    "import numpy as np\n",
    "mymodel = pickle.load(open('mymodel.sav','rb'))"
   ]
  },
  {
   "cell_type": "code",
   "execution_count": 28,
   "metadata": {},
   "outputs": [
    {
     "name": "stdout",
     "output_type": "stream",
     "text": [
      "Số lượng ca tử vong dự báo là: [[3410.]]\n"
     ]
    }
   ],
   "source": [
    "vT1 = float(input('Số lượng ca nhiễm:'))\n",
    "vT2 = float(input('Số người trên 70 tuổi :'))\n",
    "vT3 = float(input('Dân số hiện tại:'))\n",
    "\n",
    "predicted_Die = np.round(mymodel.predict([[vT1,vT2,vT3]]))\n",
    "\n",
    "print(f'Số lượng ca tử vong dự báo là: {predicted_Die}')"
   ]
  }
 ],
 "metadata": {
  "kernelspec": {
   "display_name": "Python 3.6.8 64-bit",
   "language": "python",
   "name": "python3"
  },
  "language_info": {
   "codemirror_mode": {
    "name": "ipython",
    "version": 3
   },
   "file_extension": ".py",
   "mimetype": "text/x-python",
   "name": "python",
   "nbconvert_exporter": "python",
   "pygments_lexer": "ipython3",
   "version": "3.6.8"
  },
  "orig_nbformat": 4,
  "vscode": {
   "interpreter": {
    "hash": "7e6c159821cf8433eac5e670ff2d00730716717bc465cced9e7066310845914e"
   }
  }
 },
 "nbformat": 4,
 "nbformat_minor": 2
}
